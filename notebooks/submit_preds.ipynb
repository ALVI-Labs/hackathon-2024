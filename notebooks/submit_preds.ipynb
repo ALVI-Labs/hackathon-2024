{
 "cells": [
  {
   "cell_type": "code",
   "execution_count": 1,
   "id": "927af390-3877-4bf3-935e-b96b97b7f8b2",
   "metadata": {},
   "outputs": [],
   "source": [
    "import os\n",
    "import sys\n",
    "import math\n",
    "from dataclasses import dataclass\n",
    "from pathlib import Path\n",
    "\n",
    "import numpy as np\n",
    "import pandas as pd\n",
    "import torch\n",
    "import torch.nn.functional as F\n",
    "from natsort import natsorted\n",
    "from safetensors.torch import load_model\n",
    "from tqdm import tqdm\n",
    "\n",
    "from models import hvatnet\n",
    "from utils import creating_dataset, inference_utils\n",
    "from utils.creating_dataset import LEFT_TO_RIGHT_HAND\n",
    "\n",
    "sys.path.insert(1, os.path.realpath(os.path.pardir))\n"
   ]
  },
  {
   "cell_type": "code",
   "execution_count": 5,
   "id": "9b7e0b71-15e5-4d6a-9cb2-eab87135d513",
   "metadata": {},
   "outputs": [
    {
     "name": "stdout",
     "output_type": "stream",
     "text": [
      "Number of parameters: 4210788\n"
     ]
    }
   ],
   "source": [
    "## Init model\n",
    "device = 'cuda:0'\n",
    "dtype = torch.float32\n",
    "\n",
    "MODEL_TYPE = 'hvatnet'\n",
    "weights = r\"logs\\test_2_run_fedya\\step_1200_loss_0.2587.safetensors\"\n",
    "model_config = hvatnet.Config(n_electrodes=8, n_channels_out=20,\n",
    "                            n_res_blocks=3, n_blocks_per_layer=3,\n",
    "                            n_filters=128, kernel_size=3,\n",
    "                            strides=(2, 2, 2), dilation=2, \n",
    "                            small_strides = (2, 2))\n",
    "model = hvatnet.HVATNetv3(model_config)\n",
    "\n",
    "load_model(model, weights)\n",
    "\n",
    "model = model.to(device).to(dtype)"
   ]
  },
  {
   "cell_type": "code",
   "execution_count": 6,
   "id": "6942e198-550e-4d37-87d9-ae73e996f93b",
   "metadata": {},
   "outputs": [],
   "source": [
    "amputee_path = r\"D:\\Work\\alvi_labs\\code\\data\\processed\\dataset_v2_blocks\\amputant\\left\\fedya_tropin_standart_elbow_left\\preproc_angles\"\n",
    "data_folder = Path(amputee_path) / 'submit'\n",
    "all_paths = natsorted(data_folder.glob('*.npz'))\n",
    "\n",
    "pred_list = []\n",
    "\n",
    "for p in all_paths:\n",
    "    sample = np.load(p)\n",
    "    myo = sample['data_myo']\n",
    "    myo = myo[:, LEFT_TO_RIGHT_HAND]\n",
    "    gt_len = myo[::8].shape[0]\n",
    "\n",
    "    # padding\n",
    "    target_length = (myo.shape[0] + 255) // 256 * 256\n",
    "    padded_myo = np.pad(myo, ((0, target_length - myo.shape[0]), (0, 0)), mode='constant', constant_values=0)\n",
    "\n",
    "    # some prediction. might be slididng window.\n",
    "    preds = model.inference(padded_myo)\n",
    "    \n",
    "    preds = preds[:gt_len]\n",
    "    pred_list.append(preds)\n",
    "\n",
    "pred_cat = np.concatenate(pred_list, axis=0)\n",
    "df = pd.DataFrame(pred_cat)\n",
    "df.to_csv('submit_file.csv', index=False)"
   ]
  },
  {
   "cell_type": "markdown",
   "id": "96ad710b",
   "metadata": {},
   "source": [
    "### Get metrics"
   ]
  },
  {
   "cell_type": "code",
   "execution_count": 7,
   "id": "44ccdf60",
   "metadata": {},
   "outputs": [
    {
     "data": {
      "text/plain": [
       "([15.831228825960016], [0.7604160151343241])"
      ]
     },
     "execution_count": 7,
     "metadata": {},
     "output_type": "execute_result"
    }
   ],
   "source": [
    "submit_file_path = r\"D:\\Work\\alvi_labs\\code\\data\\processed\\dataset_v2_blocks\\amputant\\left\\fedya_tropin_standart_elbow_left\\preproc_angles\\submit_gt.csv\"\n",
    "\n",
    "df_pred = pd.read_csv('submit_file.csv').to_numpy()\n",
    "df_gt = pd.read_csv(submit_file_path).to_numpy()\n",
    "\n",
    "angles, corrs = inference_utils.calculate_angle_metrics([df_pred], [df_gt])\n",
    "angles, corrs"
   ]
  },
  {
   "cell_type": "code",
   "execution_count": null,
   "id": "708cb26a",
   "metadata": {},
   "outputs": [],
   "source": []
  }
 ],
 "metadata": {
  "kernelspec": {
   "display_name": "torch_2",
   "language": "python",
   "name": "python3"
  },
  "language_info": {
   "codemirror_mode": {
    "name": "ipython",
    "version": 3
   },
   "file_extension": ".py",
   "mimetype": "text/x-python",
   "name": "python",
   "nbconvert_exporter": "python",
   "pygments_lexer": "ipython3",
   "version": "3.10.10"
  }
 },
 "nbformat": 4,
 "nbformat_minor": 5
}
