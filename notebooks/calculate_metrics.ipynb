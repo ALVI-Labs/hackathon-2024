{
 "cells": [
  {
   "cell_type": "code",
   "execution_count": 42,
   "id": "927af390-3877-4bf3-935e-b96b97b7f8b2",
   "metadata": {},
   "outputs": [],
   "source": [
    "import os\n",
    "import sys\n",
    "\n",
    "import numpy as np\n",
    "import torch\n",
    "from safetensors.torch import load_model\n",
    "\n",
    "from models import hvatnet\n",
    "from utils import creating_dataset, inference_utils\n",
    "\n",
    "sys.path.insert(1, os.path.realpath(os.path.pardir))\n"
   ]
  },
  {
   "cell_type": "code",
   "execution_count": 45,
   "id": "9b7e0b71-15e5-4d6a-9cb2-eab87135d513",
   "metadata": {},
   "outputs": [
    {
     "name": "stdout",
     "output_type": "stream",
     "text": [
      "Number of parameters: 4210788\n"
     ]
    }
   ],
   "source": [
    "## Init model\n",
    "device = 'cuda:0'\n",
    "dtype = torch.float32\n",
    "\n",
    "MODEL_TYPE = 'hvatnet'\n",
    "weights = r\"logs\\test_2_run_fedya\\step_1200_loss_0.2587.safetensors\"\n",
    "model_config = hvatnet.Config(n_electrodes=8, n_channels_out=20,\n",
    "                            n_res_blocks=3, n_blocks_per_layer=3,\n",
    "                            n_filters=128, kernel_size=3,\n",
    "                            strides=(2, 2, 2), dilation=2, \n",
    "                            small_strides = (2, 2))\n",
    "model = hvatnet.HVATNetv3(model_config)\n",
    "\n",
    "load_model(model, weights)\n",
    "\n",
    "model = model.to(device).to(dtype)"
   ]
  },
  {
   "cell_type": "code",
   "execution_count": 46,
   "id": "bf1f03cf-f840-4ea1-baf2-1744fa2cd61a",
   "metadata": {
    "tags": []
   },
   "outputs": [
    {
     "name": "stdout",
     "output_type": "stream",
     "text": [
      "Getting val datasets\n",
      "Number of moves: 72 | Dataset: fedya_tropin_standart_elbow_left\n",
      "Reorder this dataset fedya_tropin_standart_elbow_left True\n"
     ]
    },
    {
     "name": "stderr",
     "output_type": "stream",
     "text": [
      "100%|██████████| 72/72 [00:15<00:00,  4.55it/s]"
     ]
    },
    {
     "name": "stdout",
     "output_type": "stream",
     "text": [
      "MODEL_TYPE='hvatnet', np.mean(angles)=14.526435140520737, np.mean(corrs)=0.7965143874070965\n"
     ]
    },
    {
     "name": "stderr",
     "output_type": "stream",
     "text": [
      "\n"
     ]
    }
   ],
   "source": [
    "data_paths = dict(datasets=[r\"D:\\Work\\alvi_labs\\code\\data\\processed\\dataset_v1_big\", \n",
    "                           r\"D:\\Work\\alvi_labs\\code\\data\\processed\\dataset_v2_blocks\"],\n",
    "                    hand_type = ['left'],\n",
    "                    human_type = ['fedya_tropin_standart_elbow_left'],\n",
    "                    test_dataset_list = ['fedya_tropin_standart_elbow_left'])\n",
    "\n",
    "data_config = creating_dataset.DataConfig(**data_paths)\n",
    "\n",
    "WINDOW_SIZE = 256\n",
    "STRIDE = 256\n",
    "\n",
    "test_dataset = creating_dataset.get_datasets(data_config, transform=None, only_test=True)\n",
    "test_dataset_list = test_dataset.datasets\n",
    "\n",
    "all_preds, all_targets =  inference_utils.get_predictions_and_targets(test_dataset_list, model, WINDOW_SIZE, STRIDE)\n",
    "angles, corrs = inference_utils.calculate_angle_metrics(all_preds, all_targets)\n",
    "\n",
    "print(f\"{MODEL_TYPE=}, {np.mean(angles)=}, {np.mean(corrs)=}\")"
   ]
  }
 ],
 "metadata": {
  "kernelspec": {
   "display_name": "torch_2",
   "language": "python",
   "name": "python3"
  },
  "language_info": {
   "codemirror_mode": {
    "name": "ipython",
    "version": 3
   },
   "file_extension": ".py",
   "mimetype": "text/x-python",
   "name": "python",
   "nbconvert_exporter": "python",
   "pygments_lexer": "ipython3",
   "version": "3.10.10"
  }
 },
 "nbformat": 4,
 "nbformat_minor": 5
}
