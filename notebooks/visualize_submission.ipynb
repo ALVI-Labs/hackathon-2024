{
 "cells": [
  {
   "cell_type": "code",
   "execution_count": 26,
   "metadata": {},
   "outputs": [],
   "source": [
    "import sys\n",
    "import os \n",
    "sys.path.insert(1, os.path.realpath(os.path.pardir))\n",
    "import pandas as pd \n",
    "\n",
    "from utils.hand_visualize import Hand, save_animation\n",
    "from utils.quats_and_angles import get_quats"
   ]
  },
  {
   "cell_type": "code",
   "execution_count": 28,
   "metadata": {},
   "outputs": [],
   "source": [
    "data = pd.read_csv('submit_file.csv').to_numpy()\n",
    "\n",
    "quats = get_quats(data[:100])\n",
    "\n",
    "hand_gt = Hand(quats)\n",
    "ani = hand_gt.visualize_all_frames()\n",
    "save_animation(ani, 'test_vis.gif', fps=25)"
   ]
  }
 ],
 "metadata": {
  "kernelspec": {
   "display_name": "torch_2",
   "language": "python",
   "name": "python3"
  },
  "language_info": {
   "codemirror_mode": {
    "name": "ipython",
    "version": 3
   },
   "file_extension": ".py",
   "mimetype": "text/x-python",
   "name": "python",
   "nbconvert_exporter": "python",
   "pygments_lexer": "ipython3",
   "version": "3.10.10"
  }
 },
 "nbformat": 4,
 "nbformat_minor": 2
}
